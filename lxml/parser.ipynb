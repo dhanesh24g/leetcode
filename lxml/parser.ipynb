{
 "cells": [
  {
   "metadata": {},
   "cell_type": "markdown",
   "source": "## lxml Implementation",
   "id": "9d91c3a861cdf3c8"
  },
  {
   "cell_type": "code",
   "id": "initial_id",
   "metadata": {
    "collapsed": true,
    "ExecuteTime": {
     "end_time": "2025-10-09T15:09:07.093772Z",
     "start_time": "2025-10-09T15:09:07.086620Z"
    }
   },
   "source": [
    "from pathlib import Path\n",
    "from lxml import etree as et\n",
    "from lxml.etree import tostring\n",
    "\n",
    "file_read = Path.cwd() / \"files\" / \"AccountProcess.process\"\n",
    "\n",
    "with open(file_read, \"r+\") as f:\n",
    "    tree = et.parse(f)\n",
    "\n",
    "root = tree.getroot()\n",
    "root"
   ],
   "outputs": [
    {
     "data": {
      "text/plain": [
       "<Element {http://xmlns.tibco.com/bw/process/2003}ProcessDefinition at 0x106aed500>"
      ]
     },
     "execution_count": 6,
     "metadata": {},
     "output_type": "execute_result"
    }
   ],
   "execution_count": 6
  },
  {
   "metadata": {},
   "cell_type": "markdown",
   "source": "### Remove Namespaces using XSLT Transformation",
   "id": "4b15d2499905f3b2"
  },
  {
   "metadata": {
    "ExecuteTime": {
     "end_time": "2025-10-09T15:10:02.036767Z",
     "start_time": "2025-10-09T15:10:02.031904Z"
    }
   },
   "cell_type": "code",
   "source": [
    "xslt_doc = Path.cwd() / \"files\" / \"xslt_doc.xml\"\n",
    "with open(xslt_doc, \"r+\") as f:\n",
    "    xslt = et.parse(f)\n",
    "\n",
    "transform = et.XSLT(xslt)\n",
    "result = transform(root)\n",
    "\n",
    "# print(result)\n",
    "transformed_doc = Path.cwd() / \"files\" / \"transformed_doc.xml\"\n",
    "result.write(transformed_doc)"
   ],
   "id": "e144ebb792a73646",
   "outputs": [],
   "execution_count": 8
  }
 ],
 "metadata": {
  "kernelspec": {
   "display_name": "Python 3",
   "language": "python",
   "name": "python3"
  },
  "language_info": {
   "codemirror_mode": {
    "name": "ipython",
    "version": 2
   },
   "file_extension": ".py",
   "mimetype": "text/x-python",
   "name": "python",
   "nbconvert_exporter": "python",
   "pygments_lexer": "ipython2",
   "version": "2.7.6"
  }
 },
 "nbformat": 4,
 "nbformat_minor": 5
}
