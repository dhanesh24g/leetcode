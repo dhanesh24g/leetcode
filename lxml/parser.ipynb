{
 "cells": [
  {
   "metadata": {},
   "cell_type": "markdown",
   "source": "## lxml Implementation",
   "id": "9d91c3a861cdf3c8"
  },
  {
   "cell_type": "code",
   "id": "initial_id",
   "metadata": {
    "collapsed": true,
    "ExecuteTime": {
     "end_time": "2025-10-11T09:39:38.822204Z",
     "start_time": "2025-10-11T09:39:38.807695Z"
    }
   },
   "source": [
    "from pathlib import Path\n",
    "from lxml import etree as et\n",
    "\n",
    "file_read = Path.cwd() / \"files\" / \"AccountProcess.process\"\n",
    "\n",
    "with open(file_read, \"r+\") as f:\n",
    "    tree = et.parse(f)\n",
    "\n",
    "root = tree.getroot()\n",
    "root"
   ],
   "outputs": [
    {
     "data": {
      "text/plain": [
       "<Element {http://xmlns.tibco.com/bw/process/2003}ProcessDefinition at 0x106de7900>"
      ]
     },
     "execution_count": 1,
     "metadata": {},
     "output_type": "execute_result"
    }
   ],
   "execution_count": 1
  },
  {
   "metadata": {},
   "cell_type": "markdown",
   "source": "### Remove Namespaces using XSLT Transformation",
   "id": "4b15d2499905f3b2"
  },
  {
   "metadata": {
    "ExecuteTime": {
     "end_time": "2025-10-11T09:39:38.840244Z",
     "start_time": "2025-10-11T09:39:38.836540Z"
    }
   },
   "cell_type": "code",
   "source": [
    "xslt_doc = Path.cwd() / \"files\" / \"xslt_doc.xml\"\n",
    "with open(xslt_doc, \"r+\") as f:\n",
    "    xslt = et.parse(f)\n",
    "\n",
    "transform = et.XSLT(xslt)\n",
    "result = transform(root)\n",
    "\n",
    "transformed_doc = Path.cwd() / \"files\" / \"transformed_doc.xml\"\n",
    "result.write(transformed_doc)"
   ],
   "id": "e144ebb792a73646",
   "outputs": [],
   "execution_count": 2
  },
  {
   "metadata": {},
   "cell_type": "markdown",
   "source": "### Generate Tibco Mappings as Python Dictionary (k, v) pairs",
   "id": "96fb7dd78f1e03aa"
  },
  {
   "metadata": {
    "ExecuteTime": {
     "end_time": "2025-10-11T09:39:38.844928Z",
     "start_time": "2025-10-11T09:39:38.842695Z"
    }
   },
   "cell_type": "code",
   "source": [
    "def get_mapping(mapper):\n",
    "    mappings = mapper.find(\"./inputBindings/root/\")\n",
    "    my_dict = {}\n",
    "\n",
    "    slicer = len(mappings.xpath(\"ancestor::*\"))\n",
    "\n",
    "    for var in mappings.xpath(\".//value-of\"):\n",
    "        # Build the full_path from inputBindings with slicing logic\n",
    "        ancestors_list = var.xpath(\"ancestor::*\")  # excludes self\n",
    "        full_path = \"/\".join(\n",
    "            ancestor.tag for ancestor in ancestors_list[slicer:] if ancestor.tag not in (\"if\"))\n",
    "\n",
    "        my_dict[full_path] = var.attrib[\"select\"].strip('\"')\n",
    "    print(my_dict)"
   ],
   "id": "2c12eb29fc55ec2f",
   "outputs": [],
   "execution_count": 3
  },
  {
   "metadata": {
    "ExecuteTime": {
     "end_time": "2025-10-11T09:39:38.850459Z",
     "start_time": "2025-10-11T09:39:38.847732Z"
    }
   },
   "cell_type": "code",
   "source": [
    "activities = result.findall(\"./activity\")\n",
    "\n",
    "mapper_list = []\n",
    "for activity in activities:\n",
    "    if activity.xpath(\".//resourceType='ae.activities.MapperActivity'\"):\n",
    "        mapper_list.append(activity)\n",
    "\n",
    "if len(mapper_list) == 1:\n",
    "    get_mapping(mapper_list[0])"
   ],
   "id": "c66fc8722a8d8d42",
   "outputs": [
    {
     "name": "stdout",
     "output_type": "stream",
     "text": [
      "{'AcctDetails/RecordIndicator': '$var/RecordType', 'AcctDetails/CustomerID': '$var/CustomerId', 'AcctDetails/AcctNumber': '$var/AccountNumber', 'AcctDetails/TxnID': '$var/TransactionId', 'AcctDetails/TxnTypeCode': '$var/TransactionType', 'AcctDetails/TxnAmount': '$var/TransactionAmount', 'AcctDetails/Currency': '$var/CurrencyCode', 'AcctDetails/TxnDate': '$var/TransactionDate', 'AcctDetails/TxnTime': '$var/TransactionTime', 'AcctDetails/BranchID': '$var/BranchCode', 'AcctDetails/ChannelType': '$var/ChannelCode', 'AcctDetails/StatusCode': '$var/TransactionStatus', 'AcctDetails/CurrentBalance': '$var/AvailableBalance', 'AcctDetails/ProcessDate': '$var/ProcessingDate', 'AcctDetails/AuthCode': 'OAuth', 'AcctDetails/FeeAmount': '0'}\n"
     ]
    }
   ],
   "execution_count": 4
  }
 ],
 "metadata": {
  "kernelspec": {
   "display_name": "Python 3",
   "language": "python",
   "name": "python3"
  },
  "language_info": {
   "codemirror_mode": {
    "name": "ipython",
    "version": 2
   },
   "file_extension": ".py",
   "mimetype": "text/x-python",
   "name": "python",
   "nbconvert_exporter": "python",
   "pygments_lexer": "ipython2",
   "version": "2.7.6"
  }
 },
 "nbformat": 4,
 "nbformat_minor": 5
}
